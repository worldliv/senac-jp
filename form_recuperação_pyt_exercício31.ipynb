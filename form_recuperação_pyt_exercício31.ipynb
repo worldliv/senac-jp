{
  "nbformat": 4,
  "nbformat_minor": 0,
  "metadata": {
    "colab": {
      "provenance": [],
      "authorship_tag": "ABX9TyNXV/gnwi3Fqgkx+tjXr6kY",
      "include_colab_link": true
    },
    "kernelspec": {
      "name": "python3",
      "display_name": "Python 3"
    },
    "language_info": {
      "name": "python"
    }
  },
  "cells": [
    {
      "cell_type": "markdown",
      "metadata": {
        "id": "view-in-github",
        "colab_type": "text"
      },
      "source": [
        "<a href=\"https://colab.research.google.com/github/worldliv/senac-jp/blob/main/form_recupera%C3%A7%C3%A3o_pyt_exerc%C3%ADcio31.ipynb\" target=\"_parent\"><img src=\"https://colab.research.google.com/assets/colab-badge.svg\" alt=\"Open In Colab\"/></a>"
      ]
    },
    {
      "cell_type": "code",
      "execution_count": 1,
      "metadata": {
        "colab": {
          "base_uri": "https://localhost:8080/"
        },
        "id": "27wJQEUf77P1",
        "outputId": "7d2b8f69-acec-421c-e2d4-8efb569d324d"
      },
      "outputs": [
        {
          "output_type": "stream",
          "name": "stdout",
          "text": [
            "=== Menu ==\n",
            "1. Cadastrar Funcionário\n",
            "2. Listar Funcionários\n",
            "3. Sair\n",
            "===========\n",
            "Escolha uma opção: 1\n",
            "--- Cadastrar Funcionário ---\n",
            "Nome: Lívia\n",
            "Cargo: gerente\n",
            "Funcionário 'Lívia' (ID: 1) cadastrado com sucesso!\n",
            "=== Menu ==\n",
            "1. Cadastrar Funcionário\n",
            "2. Listar Funcionários\n",
            "3. Sair\n",
            "===========\n",
            "Escolha uma opção: 2\n",
            "--- Lista de Funcionários ---\n",
            "ID: 1, Nome: Lívia, Cargo: gerente\n",
            "=== Menu ==\n",
            "1. Cadastrar Funcionário\n",
            "2. Listar Funcionários\n",
            "3. Sair\n",
            "===========\n",
            "Escolha uma opção: 1\n",
            "--- Cadastrar Funcionário ---\n",
            "Nome: carlos\n",
            "Cargo: sub gerente\n",
            "Funcionário 'carlos' (ID: 2) cadastrado com sucesso!\n",
            "=== Menu ==\n",
            "1. Cadastrar Funcionário\n",
            "2. Listar Funcionários\n",
            "3. Sair\n",
            "===========\n",
            "Escolha uma opção: 2\n",
            "--- Lista de Funcionários ---\n",
            "ID: 1, Nome: Lívia, Cargo: gerente\n",
            "ID: 2, Nome: carlos, Cargo: sub gerente\n",
            "=== Menu ==\n",
            "1. Cadastrar Funcionário\n",
            "2. Listar Funcionários\n",
            "3. Sair\n",
            "===========\n",
            "Escolha uma opção: 3\n",
            "Encerando sistema. Até mais!\n"
          ]
        }
      ],
      "source": [
        "def cadastro_funcionarios():\n",
        "    funcionarios = {}\n",
        "    proximo_id = 1\n",
        "\n",
        "    while True:\n",
        "        print(\"=== Menu ==\")\n",
        "        print(\"1. Cadastrar Funcionário\")\n",
        "        print(\"2. Listar Funcionários\")\n",
        "        print(\"3. Sair\")\n",
        "        print(\"===========\")\n",
        "\n",
        "        escolha = input(\"Escolha uma opção: \")\n",
        "\n",
        "        match escolha:\n",
        "            case '1':\n",
        "                print(\"--- Cadastrar Funcionário ---\")\n",
        "                nome = input(\"Nome: \")\n",
        "                cargo = input(\"Cargo: \")\n",
        "\n",
        "                if nome and cargo:\n",
        "                    funcionarios[proximo_id] = {\"nome\": nome, \"cargo\": cargo}\n",
        "                    print(f\"Funcionário '{nome}' (ID: {proximo_id}) cadastrado com sucesso!\")\n",
        "                    proximo_id += 1\n",
        "                else:\n",
        "                    print(\"Erro: Insira os dados corretos. Funcionário não cadastrado.\")\n",
        "\n",
        "            case '2':\n",
        "                print(\"--- Lista de Funcionários ---\")\n",
        "                if not funcionarios:\n",
        "                    print(\"Nenhum funcionário cadastrado ainda.\")\n",
        "                else:\n",
        "\n",
        "                    for id_func, dados_func in funcionarios.items():\n",
        "                        print(f\"ID: {id_func}, Nome: {dados_func['nome']}, Cargo: {dados_func['cargo']}\")\n",
        "\n",
        "            case '3':\n",
        "                print(\"Encerando sistema. Até mais!\")\n",
        "                break\n",
        "\n",
        "            case _:\n",
        "                print(\"Opção inválida. Por favor, tente novamente.\")\n",
        "\n",
        "\n",
        "if __name__ == \"__main__\":\n",
        "  cadastro_funcionarios()"
      ]
    }
  ]
}